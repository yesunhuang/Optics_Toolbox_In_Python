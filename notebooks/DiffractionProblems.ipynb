{
 "cells": [
  {
   "cell_type": "markdown",
   "metadata": {},
   "source": [
    "# Diffraction Problems"
   ]
  },
  {
   "cell_type": "markdown",
   "metadata": {},
   "source": [
    "This notebook contains the problems which are solved with the Diffraction Tool"
   ]
  },
  {
   "cell_type": "markdown",
   "metadata": {},
   "source": [
    "## Import all the things"
   ]
  },
  {
   "cell_type": "markdown",
   "metadata": {},
   "source": [
    "Import regular packages"
   ]
  },
  {
   "cell_type": "code",
   "execution_count": 1,
   "metadata": {},
   "outputs": [],
   "source": [
    "%matplotlib inline\n",
    "\n",
    "import numpy as np\n",
    "from cmath import pi\n",
    "import matplotlib.pyplot as plt\n"
   ]
  },
  {
   "cell_type": "markdown",
   "metadata": {},
   "source": [
    "Add relative path"
   ]
  },
  {
   "cell_type": "code",
   "execution_count": 2,
   "metadata": {},
   "outputs": [],
   "source": [
    "import sys\n",
    "sys.path.append(\"../scripts\")"
   ]
  },
  {
   "cell_type": "markdown",
   "metadata": {},
   "source": [
    "Import Diffraction Tool"
   ]
  },
  {
   "cell_type": "code",
   "execution_count": 3,
   "metadata": {},
   "outputs": [],
   "source": [
    "from DiffractionTool import RaySomSolver\n",
    "from DiffractionTool import PatternGenerator\n",
    "from DiffractionTool import AnSpectSolver"
   ]
  },
  {
   "cell_type": "markdown",
   "metadata": {},
   "source": [
    "## Helper functions"
   ]
  },
  {
   "cell_type": "markdown",
   "metadata": {},
   "source": [
    "### Display 2d wave internsity "
   ]
  },
  {
   "cell_type": "code",
   "execution_count": 4,
   "metadata": {},
   "outputs": [],
   "source": [
    "def intensity(U):\n",
    "    return  np.real(U*np.conj(U))"
   ]
  },
  {
   "cell_type": "code",
   "execution_count": 5,
   "metadata": {},
   "outputs": [],
   "source": [
    "def displace_2d(I,xylabels,interval,figureSize=(4,3),**kwargs):\n",
    "    fig, axes = plt.subplots(1,1,figsize=figureSize)\n",
    "    X=np.linspace(interval[0][0],interval[0][1],I.shape[1])\n",
    "    Y=np.linspace(interval[1][0],interval[1][1],I.shape[0])\n",
    "    axes.contourf(X,Y,I)\n",
    "    if 'xylim' in kwargs:\n",
    "        xylim=kwargs['xylim']\n",
    "        axes.set_xlim(xylim[0])\n",
    "        axes.set_ylim(xylim[1])\n",
    "    axes.set_xlabel(xylabels[0])\n",
    "    axes.set_ylabel(xylabels[1])"
   ]
  },
  {
   "cell_type": "markdown",
   "metadata": {},
   "source": [
    "## Problems"
   ]
  },
  {
   "cell_type": "markdown",
   "metadata": {},
   "source": [
    "### Problem 1"
   ]
  },
  {
   "cell_type": "markdown",
   "metadata": {},
   "source": [
    "Calculate the diffraction of a hole with a diameter of $10\\mu m$ illuminated by the parallel light from $z=0.1\\mu m$ to $z=100\\mu m$."
   ]
  },
  {
   "cell_type": "markdown",
   "metadata": {},
   "source": [
    "<img src=\"https://github.com/yesunhuang/Optics_Toolbox_In_Python/blob/17c395048a995b15e15333ca40443fb99dcad95a/notebooks/imgs/Prob1.png\" width=\"50%\">\n",
    "<img src=\"imgs/Prob1.png\" width=\"50%\">"
   ]
  },
  {
   "cell_type": "markdown",
   "metadata": {},
   "source": [
    "#### Paramters"
   ]
  },
  {
   "cell_type": "code",
   "execution_count": 6,
   "metadata": {},
   "outputs": [],
   "source": [
    "N_size=501\n",
    "#μm plane [20,20]μm \n",
    "interval=0.040 \n",
    "waveLambda=0.633\n",
    "k=2.0*pi/waveLambda\n",
    "actual_Size=N_size*interval\n",
    "xyInterval=[interval]*2"
   ]
  },
  {
   "cell_type": "markdown",
   "metadata": {},
   "source": [
    "#### Incident Light"
   ]
  },
  {
   "cell_type": "code",
   "execution_count": 7,
   "metadata": {},
   "outputs": [],
   "source": [
    "circPartern=PatternGenerator(N_size,xyInterval,pattern='circle')\n",
    "U0=circPartern.generate([5])"
   ]
  },
  {
   "cell_type": "code",
   "execution_count": 8,
   "metadata": {},
   "outputs": [
    {
     "data": {
      "image/png": "[encoded data removed]",
      "text/plain": [
       "<Figure size 288x216 with 1 Axes>"
      ]
     },
     "metadata": {
      "needs_background": "light"
     },
     "output_type": "display_data"
    }
   ],
   "source": [
    "labels=['X(μm) ','Y(μm)']\n",
    "range=[[-actual_Size/2,actual_Size/2]]*2\n",
    "displace_2d(intensity(U0),labels,range)"
   ]
  },
  {
   "cell_type": "markdown",
   "metadata": {},
   "source": [
    "#### Propagated wavefront via Rayleigh-Sommerfeld method"
   ]
  },
  {
   "cell_type": "code",
   "execution_count": 9,
   "metadata": {},
   "outputs": [],
   "source": [
    "propagator=RaySomSolver(N_size,xyInterval,k)"
   ]
  },
  {
   "cell_type": "markdown",
   "metadata": {},
   "source": [
    "At z=0.1 $\\mu m$"
   ]
  },
  {
   "cell_type": "code",
   "execution_count": 10,
   "metadata": {},
   "outputs": [],
   "source": [
    "Uz=propagator.cal_wavefront(U0,0.1)"
   ]
  },
  {
   "cell_type": "code",
   "execution_count": 11,
   "metadata": {},
   "outputs": [
    {
     "data": {
      "image/png": "[encoded data removed]",
      "text/plain": [
       "<Figure size 288x216 with 1 Axes>"
      ]
     },
     "metadata": {
      "needs_background": "light"
     },
     "output_type": "display_data"
    }
   ],
   "source": [
    "displace_2d(intensity(Uz),labels,range)"
   ]
  },
  {
   "cell_type": "markdown",
   "metadata": {},
   "source": [
    "At z=100 $\\mu m$"
   ]
  },
  {
   "cell_type": "code",
   "execution_count": 12,
   "metadata": {},
   "outputs": [],
   "source": [
    "Uz=propagator.cal_wavefront(U0,100)"
   ]
  },
  {
   "cell_type": "code",
   "execution_count": 13,
   "metadata": {},
   "outputs": [
    {
     "data": {
      "image/png": "[encoded data removed]",
      "text/plain": [
       "<Figure size 288x216 with 1 Axes>"
      ]
     },
     "metadata": {
      "needs_background": "light"
     },
     "output_type": "display_data"
    }
   ],
   "source": [
    "displace_2d(intensity(Uz),labels,range)"
   ]
  },
  {
   "cell_type": "markdown",
   "metadata": {},
   "source": [
    "YZ Plane"
   ]
  },
  {
   "cell_type": "code",
   "execution_count": 14,
   "metadata": {},
   "outputs": [],
   "source": [
    "z_size=100\n",
    "z_range=np.linspace(0.1,100,z_size)\n",
    "I_zy=np.ones((N_size,z_size),dtype=float)"
   ]
  },
  {
   "cell_type": "code",
   "execution_count": 15,
   "metadata": {},
   "outputs": [
    {
     "name": "stdout",
     "output_type": "stream",
     "text": [
      "complete: 20.000000 %\n",
      "complete: 40.000000 %\n",
      "complete: 60.000000 %\n",
      "complete: 80.000000 %\n",
      "complete: 100.000000 %\n"
     ]
    }
   ],
   "source": [
    "index=0\n",
    "for z in z_range:\n",
    "    Uz=propagator.cal_wavefront(U0,z)\n",
    "    Iz=intensity(Uz)\n",
    "    #I_zy[:,index]=np.sum(Iz,axis=1)\n",
    "    I_zy[:,index]=Iz[:,round(N_size/2)]\n",
    "    index+=1\n",
    "    if index%20==0:\n",
    "        print(f'complete: {index/z_size*100:f} %')"
   ]
  },
  {
   "cell_type": "code",
   "execution_count": 16,
   "metadata": {},
   "outputs": [
    {
     "data": {
      "image/png": "[encoded data removed]",
      "text/plain": [
       "<Figure size 576x288 with 1 Axes>"
      ]
     },
     "metadata": {
      "needs_background": "light"
     },
     "output_type": "display_data"
    }
   ],
   "source": [
    "zyrange=[[0.1,100],[-actual_Size/2,actual_Size/2]]\n",
    "labels=['Z(μm) ','Y(μm)']\n",
    "displace_2d(I_zy,labels,zyrange,figureSize=(8,4))"
   ]
  },
  {
   "cell_type": "markdown",
   "metadata": {},
   "source": [
    "#### Propagated wavefront via Angular Spectrum method"
   ]
  },
  {
   "cell_type": "code",
   "execution_count": 17,
   "metadata": {},
   "outputs": [],
   "source": [
    "propagator=AnSpectSolver(N_size,xyInterval,k)"
   ]
  },
  {
   "cell_type": "markdown",
   "metadata": {},
   "source": [
    "At z=100 $\\mu m$"
   ]
  },
  {
   "cell_type": "code",
   "execution_count": 18,
   "metadata": {},
   "outputs": [
    {
     "data": {
      "image/png": "[encoded data removed]",
      "text/plain": [
       "<Figure size 288x216 with 1 Axes>"
      ]
     },
     "metadata": {
      "needs_background": "light"
     },
     "output_type": "display_data"
    }
   ],
   "source": [
    "Uz=propagator.cal_wavefront(U0,100)\n",
    "labels=['X(μm) ','Y(μm)']\n",
    "displace_2d(intensity(Uz),labels,range)"
   ]
  },
  {
   "cell_type": "markdown",
   "metadata": {},
   "source": [
    "YZ Plane"
   ]
  },
  {
   "cell_type": "code",
   "execution_count": 19,
   "metadata": {},
   "outputs": [
    {
     "name": "stdout",
     "output_type": "stream",
     "text": [
      "complete: 20.000000 %\n",
      "complete: 40.000000 %\n",
      "complete: 60.000000 %\n",
      "complete: 80.000000 %\n",
      "complete: 100.000000 %\n"
     ]
    }
   ],
   "source": [
    "index=0\n",
    "for z in z_range:\n",
    "    Uz=propagator.cal_wavefront(U0,z)\n",
    "    Iz=intensity(Uz)\n",
    "    #I_zy[:,index]=np.sum(Iz,axis=1)\n",
    "    I_zy[:,index]=Iz[:,round(N_size/2)]\n",
    "    index+=1\n",
    "    if index%20==0:\n",
    "        print(f'complete: {index/z_size*100:f} %')"
   ]
  },
  {
   "cell_type": "code",
   "execution_count": 20,
   "metadata": {},
   "outputs": [
    {
     "data": {
      "image/png": "[encoded data removed]",
      "text/plain": [
       "<Figure size 576x288 with 1 Axes>"
      ]
     },
     "metadata": {
      "needs_background": "light"
     },
     "output_type": "display_data"
    }
   ],
   "source": [
    "zyrange=[[0.1,100],[-actual_Size/2,actual_Size/2]]\n",
    "labels=['Z(μm) ','Y(μm)']\n",
    "displace_2d(I_zy,labels,zyrange,figureSize=(8,4))"
   ]
  },
  {
   "cell_type": "markdown",
   "metadata": {},
   "source": [
    "### Problem 2\n"
   ]
  },
  {
   "cell_type": "markdown",
   "metadata": {},
   "source": [
    "Calculate the diffraction of a phase plate modulated by $exp[-kr^2/(2f)], f=50\\mu m$ with a diameter of $100\\mu m$ illuminated by the parallel light from $z=30\\mu m$ to $z=70\\mu m$."
   ]
  },
  {
   "cell_type": "markdown",
   "metadata": {},
   "source": [
    "#### Parameters"
   ]
  },
  {
   "cell_type": "code",
   "execution_count": 8,
   "metadata": {},
   "outputs": [],
   "source": [
    "N_size=1001\n",
    "#μm plane [200,200]μm \n",
    "inteval=0.2 \n",
    "waveLambda=0.633\n",
    "k=2.0*pi/waveLambda\n",
    "f=50\n",
    "actual_Size=N_size*inteval\n",
    "xyInterval=[inteval]*2"
   ]
  },
  {
   "cell_type": "markdown",
   "metadata": {},
   "source": [
    "#### Incident Light"
   ]
  },
  {
   "cell_type": "code",
   "execution_count": 9,
   "metadata": {},
   "outputs": [],
   "source": [
    "def modulator(X,Y):\n",
    "    r2=np.power(X,2)+np.power(Y,2)\n",
    "    return np.exp(-1j*k*r2/(2*f))"
   ]
  },
  {
   "cell_type": "code",
   "execution_count": 10,
   "metadata": {},
   "outputs": [],
   "source": [
    "circPartern=PatternGenerator(N_size,xyInterval,pattern='circle',modulator=modulator)\n",
    "U0=circPartern.generate([50])"
   ]
  },
  {
   "cell_type": "code",
   "execution_count": 11,
   "metadata": {},
   "outputs": [
    {
     "data": {
      "image/png": "[encoded data removed]",
      "text/plain": [
       "<Figure size 288x216 with 1 Axes>"
      ]
     },
     "metadata": {
      "needs_background": "light"
     },
     "output_type": "display_data"
    }
   ],
   "source": [
    "labels=['X(μm) ','Y(μm)']\n",
    "range=[[-actual_Size/2,actual_Size/2]]*2\n",
    "displace_2d(intensity(U0),labels,range)"
   ]
  },
  {
   "cell_type": "markdown",
   "metadata": {},
   "source": [
    "#### Propagated wavefront via Rayleigh-Sommerfeld method"
   ]
  },
  {
   "cell_type": "code",
   "execution_count": 12,
   "metadata": {},
   "outputs": [],
   "source": [
    "propagator=RaySomSolver(N_size,xyInterval,k)"
   ]
  },
  {
   "cell_type": "markdown",
   "metadata": {},
   "source": [
    "At z=30 $\\mu m$"
   ]
  },
  {
   "cell_type": "code",
   "execution_count": 13,
   "metadata": {},
   "outputs": [
    {
     "data": {
      "image/png": "[encoded data removed]",
      "text/plain": [
       "<Figure size 288x216 with 1 Axes>"
      ]
     },
     "metadata": {
      "needs_background": "light"
     },
     "output_type": "display_data"
    }
   ],
   "source": [
    "Uz=propagator.cal_wavefront(U0,30)\n",
    "displace_2d(intensity(Uz),labels,range)"
   ]
  },
  {
   "cell_type": "markdown",
   "metadata": {},
   "source": [
    "At z=70 $\\mu m$"
   ]
  },
  {
   "cell_type": "code",
   "execution_count": 14,
   "metadata": {},
   "outputs": [
    {
     "data": {
      "image/png": "[encoded data removed]",
      "text/plain": [
       "<Figure size 288x216 with 1 Axes>"
      ]
     },
     "metadata": {
      "needs_background": "light"
     },
     "output_type": "display_data"
    }
   ],
   "source": [
    "Uz=propagator.cal_wavefront(U0,70)\n",
    "displace_2d(intensity(Uz),labels,range)"
   ]
  },
  {
   "cell_type": "markdown",
   "metadata": {},
   "source": [
    "YZ Plane"
   ]
  },
  {
   "cell_type": "code",
   "execution_count": 15,
   "metadata": {},
   "outputs": [],
   "source": [
    "z_size=40\n",
    "z_range=np.linspace(30,70,z_size)\n",
    "I_zy=np.ones((N_size,z_size),dtype=float)"
   ]
  },
  {
   "cell_type": "code",
   "execution_count": 16,
   "metadata": {},
   "outputs": [
    {
     "name": "stdout",
     "output_type": "stream",
     "text": [
      "complete: 25.000000 %\n",
      "complete: 50.000000 %\n",
      "complete: 75.000000 %\n",
      "complete: 100.000000 %\n"
     ]
    }
   ],
   "source": [
    "index=0\n",
    "for z in z_range:\n",
    "    Uz=propagator.cal_wavefront(U0,z)\n",
    "    Iz=intensity(Uz)\n",
    "    #I_zy[:,index]=np.sum(Iz,axis=1)\n",
    "    I_zy[:,index]=Iz[:,round(N_size/2)]\n",
    "    index+=1\n",
    "    if index%10==0:\n",
    "        print(f'complete: {index/z_size*100:f} %')"
   ]
  },
  {
   "cell_type": "code",
   "execution_count": 19,
   "metadata": {},
   "outputs": [
    {
     "data": {
      "image/png": "[encoded data removed]",
      "text/plain": [
       "<Figure size 576x288 with 1 Axes>"
      ]
     },
     "metadata": {
      "needs_background": "light"
     },
     "output_type": "display_data"
    }
   ],
   "source": [
    "zyrange=[[30,70],[-actual_Size/2,actual_Size/2]]\n",
    "# rescale the intensity \n",
    "displace_2d(I_zy,labels,zyrange,figureSize=(8,4),xylim=[[30,70],[-10,10]])"
   ]
  },
  {
   "cell_type": "code",
   "execution_count": null,
   "metadata": {},
   "outputs": [],
   "source": []
  }
 ],
 "metadata": {
  "interpreter": {
   "hash": "8d86c190dfcadcdaa67edec4a1ea82702241987b5b1f320c920d3d4ca36fee5b"
  },
  "kernelspec": {
   "display_name": "Python 3.8.3 ('base')",
   "language": "python",
   "name": "python3"
  },
  "language_info": {
   "codemirror_mode": {
    "name": "ipython",
    "version": 3
   },
   "file_extension": ".py",
   "mimetype": "text/x-python",
   "name": "python",
   "nbconvert_exporter": "python",
   "pygments_lexer": "ipython3",
   "version": "3.8.3"
  },
  "orig_nbformat": 4
 },
 "nbformat": 4,
 "nbformat_minor": 2
}
