{
 "cells": [
  {
   "cell_type": "markdown",
   "metadata": {},
   "source": [
    "# Fourier Lens"
   ]
  },
  {
   "cell_type": "markdown",
   "metadata": {},
   "source": [
    "This notebook contains the problems which are solved with the Diffraction Tool"
   ]
  },
  {
   "cell_type": "markdown",
   "metadata": {},
   "source": [
    "## Import all the things"
   ]
  },
  {
   "cell_type": "markdown",
   "metadata": {},
   "source": [
    "Import regular packages"
   ]
  },
  {
   "cell_type": "code",
   "execution_count": 1,
   "metadata": {},
   "outputs": [],
   "source": [
    "import os\n",
    "os.environ[\"KMP_DUPLICATE_LIB_OK\"]=\"TRUE\""
   ]
  },
  {
   "cell_type": "code",
   "execution_count": 2,
   "metadata": {},
   "outputs": [],
   "source": [
    "%matplotlib inline\n",
    "\n",
    "import cv2\n",
    "import numpy as np\n",
    "from cmath import pi"
   ]
  },
  {
   "cell_type": "markdown",
   "metadata": {},
   "source": [
    "Add relative path"
   ]
  },
  {
   "cell_type": "code",
   "execution_count": 3,
   "metadata": {},
   "outputs": [],
   "source": [
    "import sys\n",
    "import os\n",
    "sys.path.append(os.path.join('..','Scripts'))"
   ]
  },
  {
   "cell_type": "markdown",
   "metadata": {},
   "source": [
    "Import Diffraction Tool"
   ]
  },
  {
   "cell_type": "code",
   "execution_count": 4,
   "metadata": {},
   "outputs": [],
   "source": [
    "from DiffractionTool import PhaseTypeHologram\n",
    "from DiffractionTool import PatternGenerator\n",
    "from DiffractionTool import HelperFunctions as hp"
   ]
  },
  {
   "cell_type": "markdown",
   "metadata": {},
   "source": [
    "## Problems"
   ]
  },
  {
   "cell_type": "markdown",
   "metadata": {},
   "source": [
    "As shown in the figure above, a 632.8nm laser beam is incident on a 200 micron diameter phase type hologram.\n",
    "And the transmitted light forms an image of $500\\mu m*500\\mu m$ at $z=400\\mu m$ (the image content is customized).\n",
    "Combined with angular spectrum method or Rayleigh-Sommerfeld diffraction, the GS algorithm shall be built to optimize the following two cases of hologram phase distributions. Upload code and report which includes the deserved phase distribution and detailed analysis.\n",
    "1. Phase distribution when the pixel cell size of the hologram is $0.3\\mu m *0.3\\mu m$\n",
    "2. Phase distribution when the pixel cell size of the hologram is $2.0\\mu m *2.0\\mu m$\n",
    "3. Compare the differences between the two cases and analyze the reasons"
   ]
  },
  {
   "cell_type": "markdown",
   "metadata": {},
   "source": [
    "<img src=\"https://github.com/yesunhuang/Optics_Toolbox_In_Python/blob/6738af360a3f9c9bf34ffd43a9751a1bcbfd55ff/notebooks/imgs/Prob5.png\" width=\"50%\">"
   ]
  },
  {
   "cell_type": "markdown",
   "metadata": {},
   "source": [
    "<img src=\"imgs/Prob5.png\" width=\"50%\">"
   ]
  },
  {
   "cell_type": "markdown",
   "metadata": {},
   "source": [
    "#### Paramters"
   ]
  },
  {
   "cell_type": "code",
   "execution_count": 5,
   "metadata": {},
   "outputs": [],
   "source": [
    "N_size=1501\n",
    "#μm plane [500,500]μm \n",
    "interval=0.3\n",
    "waveLambda=0.6328\n",
    "z=400\n",
    "k=2.0*pi/waveLambda\n",
    "actualSize=N_size*interval\n",
    "xyInterval=[interval]*2\n",
    "hologramRadius=100"
   ]
  },
  {
   "cell_type": "markdown",
   "metadata": {},
   "source": [
    "#### Original Image"
   ]
  },
  {
   "cell_type": "code",
   "execution_count": 6,
   "metadata": {},
   "outputs": [],
   "source": [
    "currentPath=os.getcwd()\n",
    "dataPath=os.path.join(currentPath,\"data\")\n",
    "filename='Prob3Data.png'"
   ]
  },
  {
   "cell_type": "code",
   "execution_count": 7,
   "metadata": {},
   "outputs": [],
   "source": [
    "grayImg=cv2.imread(os.path.join(dataPath,filename),cv2.IMREAD_GRAYSCALE)\n",
    "grayImg=cv2.flip(grayImg,0)\n",
    "targetImg=cv2.resize(grayImg,(N_size,N_size))\n",
    "targetImg=targetImg/np.max(np.abs(targetImg))"
   ]
  },
  {
   "cell_type": "code",
   "execution_count": 8,
   "metadata": {},
   "outputs": [],
   "source": [
    "PTest=PatternGenerator(N_size,xyInterval,pattern='rect')\n",
    "targetImg=hp.intensity(PTest.generate([100,100]))"
   ]
  },
  {
   "cell_type": "code",
   "execution_count": 9,
   "metadata": {},
   "outputs": [
    {
     "data": {
      "image/png": "[encoded data removed]",
      "text/plain": [
       "<Figure size 288x216 with 1 Axes>"
      ]
     },
     "metadata": {
      "needs_background": "light"
     },
     "output_type": "display_data"
    }
   ],
   "source": [
    "labels=['X(μm) ','Y(μm)']\n",
    "range=[[-actualSize/2.0,actualSize/2.0]]*2\n",
    "hp.displace_2d(targetImg,labels,range)"
   ]
  },
  {
   "cell_type": "code",
   "execution_count": 10,
   "metadata": {},
   "outputs": [
    {
     "name": "stdout",
     "output_type": "stream",
     "text": [
      "(1501, 1501)\n"
     ]
    }
   ],
   "source": [
    "print(targetImg.shape)"
   ]
  },
  {
   "cell_type": "markdown",
   "metadata": {},
   "source": [
    "### Hologram Pattern"
   ]
  },
  {
   "cell_type": "code",
   "execution_count": 11,
   "metadata": {},
   "outputs": [],
   "source": [
    "shape=PatternGenerator(N_size,xyInterval,pattern='circle')"
   ]
  },
  {
   "cell_type": "code",
   "execution_count": 12,
   "metadata": {},
   "outputs": [],
   "source": [
    "hologramShape=shape.generate([hologramRadius])"
   ]
  },
  {
   "cell_type": "code",
   "execution_count": 13,
   "metadata": {},
   "outputs": [
    {
     "data": {
      "image/png": "[encoded data removed]",
      "text/plain": [
       "<Figure size 288x216 with 1 Axes>"
      ]
     },
     "metadata": {
      "needs_background": "light"
     },
     "output_type": "display_data"
    }
   ],
   "source": [
    "hp.displace_2d(hp.intensity(hologramShape),labels,range);"
   ]
  },
  {
   "cell_type": "markdown",
   "metadata": {},
   "source": [
    "### Sub problem 1"
   ]
  },
  {
   "cell_type": "markdown",
   "metadata": {},
   "source": [
    "Phase distribution when the pixel cell size of the hologram is $0.3\\mu m *0.3\\mu m$."
   ]
  },
  {
   "cell_type": "code",
   "execution_count": 14,
   "metadata": {},
   "outputs": [],
   "source": [
    "#parameters\n",
    "pixelSize=[0.3]*2"
   ]
  },
  {
   "cell_type": "code",
   "execution_count": 15,
   "metadata": {},
   "outputs": [],
   "source": [
    "hologramP1=PhaseTypeHologram(N_size,xyInterval,pixelSize,hologramShape)"
   ]
  },
  {
   "cell_type": "markdown",
   "metadata": {},
   "source": [
    "GS"
   ]
  },
  {
   "cell_type": "code",
   "execution_count": 16,
   "metadata": {},
   "outputs": [
    {
     "name": "stdout",
     "output_type": "stream",
     "text": [
      "Epoch [1/10], loss: 0.033879, time: 38.255231s\n",
      "Epoch [2/10], loss: 0.033572, time: 13.069883s\n",
      "Epoch [3/10], loss: 0.034532, time: 13.291096s\n",
      "Epoch [4/10], loss: 0.036705, time: 15.260238s\n",
      "Epoch [5/10], loss: 0.043243, time: 14.954143s\n",
      "Epoch [6/10], loss: 0.037855, time: 13.373281s\n",
      "Epoch [7/10], loss: 0.033933, time: 13.392835s\n",
      "Epoch [8/10], loss: 0.032150, time: 13.490777s\n",
      "Epoch [9/10], loss: 0.041006, time: 13.158018s\n",
      "Epoch [10/10], loss: 0.035895, time: 13.275464s\n"
     ]
    }
   ],
   "source": [
    "loss=hologramP1.get_hologram(z,k,hologramShape,targetImg,epoches=10)"
   ]
  },
  {
   "cell_type": "markdown",
   "metadata": {},
   "source": [
    "Results"
   ]
  },
  {
   "cell_type": "code",
   "execution_count": 17,
   "metadata": {},
   "outputs": [],
   "source": [
    "result=hologramP1.apply_hologram(z,k,hologramShape)"
   ]
  },
  {
   "cell_type": "code",
   "execution_count": 18,
   "metadata": {},
   "outputs": [
    {
     "data": {
      "image/png": "[encoded data removed]",
      "text/plain": [
       "<Figure size 288x216 with 1 Axes>"
      ]
     },
     "metadata": {
      "needs_background": "light"
     },
     "output_type": "display_data"
    }
   ],
   "source": [
    "hp.displace_2d(hp.intensity(result),labels,range);"
   ]
  },
  {
   "cell_type": "markdown",
   "metadata": {},
   "source": [
    "Hologram phase distribution"
   ]
  },
  {
   "cell_type": "code",
   "execution_count": 19,
   "metadata": {},
   "outputs": [
    {
     "data": {
      "image/png": "[encoded data removed]",
      "text/plain": [
       "<Figure size 288x216 with 1 Axes>"
      ]
     },
     "metadata": {
      "needs_background": "light"
     },
     "output_type": "display_data"
    }
   ],
   "source": [
    "hp.displace_2d(hologramP1.get_hologram_phase_distribution(),labels,range)"
   ]
  },
  {
   "cell_type": "markdown",
   "metadata": {},
   "source": [
    "### Sub problem 2"
   ]
  },
  {
   "cell_type": "markdown",
   "metadata": {},
   "source": [
    "Phase distribution when the pixel cell size of the hologram is $2.0\\mu m *2.0\\mu m$"
   ]
  },
  {
   "cell_type": "code",
   "execution_count": 20,
   "metadata": {},
   "outputs": [],
   "source": [
    "#parameters\n",
    "pixelSize=[2.0]*2"
   ]
  },
  {
   "cell_type": "code",
   "execution_count": 21,
   "metadata": {},
   "outputs": [],
   "source": [
    "hologramP2=PhaseTypeHologram(N_size,xyInterval,pixelSize,hologramShape)"
   ]
  },
  {
   "cell_type": "markdown",
   "metadata": {},
   "source": [
    "GS"
   ]
  },
  {
   "cell_type": "code",
   "execution_count": 22,
   "metadata": {},
   "outputs": [
    {
     "name": "stdout",
     "output_type": "stream",
     "text": [
      "Epoch [1/10], loss: 0.033879, time: 38.315020s\n",
      "Epoch [2/10], loss: 0.035728, time: 13.368024s\n",
      "Epoch [3/10], loss: 0.038161, time: 13.268527s\n",
      "Epoch [4/10], loss: 0.037167, time: 13.153323s\n",
      "Epoch [5/10], loss: 0.038041, time: 13.213631s\n",
      "Epoch [6/10], loss: 0.038240, time: 13.223960s\n",
      "Epoch [7/10], loss: 0.039331, time: 13.203363s\n",
      "Epoch [8/10], loss: 0.039533, time: 13.165152s\n",
      "Epoch [9/10], loss: 0.040830, time: 13.160649s\n",
      "Epoch [10/10], loss: 0.042667, time: 13.169927s\n"
     ]
    }
   ],
   "source": [
    "loss=hologramP2.get_hologram(z,k,hologramShape,targetImg,epoches=10)"
   ]
  },
  {
   "cell_type": "markdown",
   "metadata": {},
   "source": [
    "Results"
   ]
  },
  {
   "cell_type": "code",
   "execution_count": 23,
   "metadata": {},
   "outputs": [],
   "source": [
    "result=hologramP2.apply_hologram(z,k,hologramShape)"
   ]
  },
  {
   "cell_type": "code",
   "execution_count": 24,
   "metadata": {},
   "outputs": [
    {
     "data": {
      "image/png": "[encoded data removed]",
      "text/plain": [
       "<Figure size 288x216 with 1 Axes>"
      ]
     },
     "metadata": {
      "needs_background": "light"
     },
     "output_type": "display_data"
    }
   ],
   "source": [
    "hp.displace_2d(hp.intensity(result),labels,range);"
   ]
  },
  {
   "cell_type": "markdown",
   "metadata": {},
   "source": [
    "Hologram phase distribution"
   ]
  },
  {
   "cell_type": "code",
   "execution_count": 25,
   "metadata": {},
   "outputs": [
    {
     "data": {
      "image/png": "[encoded data removed]",
      "text/plain": [
       "<Figure size 288x216 with 1 Axes>"
      ]
     },
     "metadata": {
      "needs_background": "light"
     },
     "output_type": "display_data"
    }
   ],
   "source": [
    "hp.displace_2d(hologramP2.get_hologram_phase_distribution(),labels,range)"
   ]
  },
  {
   "cell_type": "markdown",
   "metadata": {},
   "source": [
    "### Sub problem 3"
   ]
  },
  {
   "cell_type": "markdown",
   "metadata": {},
   "source": [
    "Compare the differences between the two cases and analyze the reasons"
   ]
  },
  {
   "cell_type": "markdown",
   "metadata": {},
   "source": [
    "Answer: When the pixel size is too large, the result image is very rough. The reason is that the GS algorithm is not able to capture the phase distribution of the hologram and does not converge due to the roughness of pixel. So it might be better to use a small pixel size."
   ]
  }
 ],
 "metadata": {
  "interpreter": {
   "hash": "8d86c190dfcadcdaa67edec4a1ea82702241987b5b1f320c920d3d4ca36fee5b"
  },
  "kernelspec": {
   "display_name": "Python 3.8.3 ('base')",
   "language": "python",
   "name": "python3"
  },
  "language_info": {
   "codemirror_mode": {
    "name": "ipython",
    "version": 3
   },
   "file_extension": ".py",
   "mimetype": "text/x-python",
   "name": "python",
   "nbconvert_exporter": "python",
   "pygments_lexer": "ipython3",
   "version": "3.8.3"
  },
  "orig_nbformat": 4
 },
 "nbformat": 4,
 "nbformat_minor": 2
}
