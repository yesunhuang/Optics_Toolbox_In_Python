{
 "cells": [
  {
   "cell_type": "markdown",
   "metadata": {},
   "source": [
    "# Fourier Lens"
   ]
  },
  {
   "cell_type": "markdown",
   "metadata": {},
   "source": [
    "This notebook contains the problems which are solved with the Diffraction Tool"
   ]
  },
  {
   "cell_type": "markdown",
   "metadata": {},
   "source": [
    "## Import all the things"
   ]
  },
  {
   "cell_type": "markdown",
   "metadata": {},
   "source": [
    "Import regular packages"
   ]
  },
  {
   "cell_type": "code",
   "execution_count": 3,
   "metadata": {},
   "outputs": [],
   "source": [
    "%matplotlib inline\n",
    "\n",
    "import cv2\n",
    "import numpy as np\n",
    "from cmath import pi"
   ]
  },
  {
   "cell_type": "markdown",
   "metadata": {},
   "source": [
    "Add relative path"
   ]
  },
  {
   "cell_type": "code",
   "execution_count": 4,
   "metadata": {},
   "outputs": [],
   "source": [
    "import sys\n",
    "import os\n",
    "sys.path.append(os.path.join('..','Scripts'))"
   ]
  },
  {
   "cell_type": "markdown",
   "metadata": {},
   "source": [
    "Import Diffraction Tool"
   ]
  },
  {
   "cell_type": "code",
   "execution_count": 5,
   "metadata": {},
   "outputs": [],
   "source": [
    "from DiffractionTool import RaySomSolver\n",
    "from DiffractionTool import PhaseModulator \n",
    "from DiffractionTool import HelperFunctions as hp"
   ]
  },
  {
   "cell_type": "markdown",
   "metadata": {},
   "source": [
    "## Problems"
   ]
  },
  {
   "cell_type": "markdown",
   "metadata": {},
   "source": [
    "As shown in the figure above, a 632.8nm laser beam is incident on a 200 micron diameter phase type hologram\n",
    "The transmitted light forms an image of 500 μm *500 μm at z=400 μm (the image content is customized).\n",
    "Combined with angular spectrum method or Rayleigh-Sommerfeld diffraction, the GS algorithm was independently built to optimize the following two methods\n",
    "The hologram phase distribution in case. Upload code and report (includes phase distribution and detailed analysis knots\n",
    "Fruit))\n",
    "1. Phase distribution when the pixel cell size of the hologram is 0.3μm*0.3μm\n",
    "2. Phase distribution when the pixel cell size of the hologram is 2μm*2μm\n",
    "3. Compare the differences between the two cases and analyze the reasons"
   ]
  },
  {
   "cell_type": "markdown",
   "metadata": {},
   "source": [
    "<img src=\"https://github.com/yesunhuang/Optics_Toolbox_In_Python/blob/d03ce783648cac68aa20def4973a9ee44055fc0f/notebooks/imgs/Prob3.png\" width=\"50%\">"
   ]
  },
  {
   "cell_type": "markdown",
   "metadata": {},
   "source": [
    "<img src=\"imgs/Prob3.png\" width=\"50%\">"
   ]
  },
  {
   "cell_type": "markdown",
   "metadata": {},
   "source": [
    "#### Paramters"
   ]
  },
  {
   "cell_type": "code",
   "execution_count": 4,
   "metadata": {},
   "outputs": [],
   "source": [
    "N_size=2001\n",
    "#μm plane [400,400]μm \n",
    "interval=0.2\n",
    "waveLambda=0.633\n",
    "k=2.0*pi/waveLambda\n",
    "actualSize=N_size*interval\n",
    "xyInterval=[interval]*2"
   ]
  },
  {
   "cell_type": "markdown",
   "metadata": {},
   "source": [
    "#### Original Image"
   ]
  },
  {
   "cell_type": "code",
   "execution_count": 5,
   "metadata": {},
   "outputs": [],
   "source": [
    "currentPath=os.getcwd()\n",
    "dataPath=os.path.join(currentPath,\"data\")\n",
    "filename='Prob3Data.png'"
   ]
  },
  {
   "cell_type": "code",
   "execution_count": 6,
   "metadata": {},
   "outputs": [],
   "source": [
    "grayImg=cv2.imread(os.path.join(dataPath,filename),cv2.IMREAD_GRAYSCALE)\n",
    "grayImg=cv2.flip(grayImg,0)\n",
    "imgActualSize=40\n",
    "imgNSize=grayImg.shape[0]\n",
    "grayImg=np.where(grayImg>100,grayImg,0)"
   ]
  },
  {
   "cell_type": "code",
   "execution_count": 7,
   "metadata": {},
   "outputs": [
    {
     "data": {
      "image/png": "[encoded data removed]",
      "text/plain": [
       "<Figure size 288x216 with 1 Axes>"
      ]
     },
     "metadata": {
      "needs_background": "light"
     },
     "output_type": "display_data"
    }
   ],
   "source": [
    "labels=['X(μm) ','Y(μm)']\n",
    "range=[[-imgActualSize/2.0,imgActualSize/2.0]]*2\n",
    "hp.displace_2d(grayImg,labels,range)"
   ]
  },
  {
   "cell_type": "markdown",
   "metadata": {},
   "source": [
    "#### Pre-Modified Image"
   ]
  },
  {
   "cell_type": "code",
   "execution_count": 8,
   "metadata": {},
   "outputs": [
    {
     "name": "stdout",
     "output_type": "stream",
     "text": [
      "(4242, 4242)\n"
     ]
    },
    {
     "data": {
      "image/png": "[encoded data removed]",
      "text/plain": [
       "<Figure size 288x216 with 1 Axes>"
      ]
     },
     "metadata": {
      "needs_background": "light"
     },
     "output_type": "display_data"
    }
   ],
   "source": [
    "padSize=int((actualSize/(imgActualSize)*imgNSize-imgNSize)/2)\n",
    "preImg=cv2.copyMakeBorder(grayImg,padSize,padSize,padSize,padSize,cv2.BORDER_CONSTANT,value=0)\n",
    "labels=['X(μm) ','Y(μm)']\n",
    "range=[[-actualSize/2.0,actualSize/2.0]]*2\n",
    "hp.displace_2d(preImg,labels,range)\n",
    "print(preImg.shape)"
   ]
  },
  {
   "cell_type": "code",
   "execution_count": 9,
   "metadata": {},
   "outputs": [
    {
     "name": "stdout",
     "output_type": "stream",
     "text": [
      "(2001, 2001)\n"
     ]
    },
    {
     "data": {
      "image/png": "[encoded data removed]",
      "text/plain": [
       "<Figure size 288x216 with 1 Axes>"
      ]
     },
     "metadata": {
      "needs_background": "light"
     },
     "output_type": "display_data"
    }
   ],
   "source": [
    "preImg=cv2.resize(preImg,(N_size,N_size))\n",
    "labels=['X(μm) ','Y(μm)']\n",
    "range=[[-actualSize/2.0,actualSize/2.0]]*2\n",
    "hp.displace_2d(preImg,labels,range)\n",
    "print(preImg.shape)"
   ]
  },
  {
   "cell_type": "markdown",
   "metadata": {},
   "source": [
    "#### Propagator of wavefront via Rayleigh-Sommerfeld method"
   ]
  },
  {
   "cell_type": "code",
   "execution_count": 10,
   "metadata": {},
   "outputs": [],
   "source": [
    "propagator=RaySomSolver(N_size,xyInterval,k)"
   ]
  },
  {
   "cell_type": "markdown",
   "metadata": {},
   "source": [
    "#### M=1"
   ]
  },
  {
   "cell_type": "markdown",
   "metadata": {},
   "source": [
    "$z_1=z_2=2f=200\\mu m$"
   ]
  },
  {
   "cell_type": "code",
   "execution_count": 11,
   "metadata": {},
   "outputs": [],
   "source": [
    "z1=z2=200\n",
    "f=100\n",
    "r=210"
   ]
  },
  {
   "cell_type": "markdown",
   "metadata": {},
   "source": [
    "U1"
   ]
  },
  {
   "cell_type": "code",
   "execution_count": 12,
   "metadata": {},
   "outputs": [],
   "source": [
    "U0=np.sqrt(preImg)\n",
    "U1=propagator.cal_wavefront(U0,z1)"
   ]
  },
  {
   "cell_type": "code",
   "execution_count": 13,
   "metadata": {},
   "outputs": [
    {
     "data": {
      "image/png": "[encoded data removed]",
      "text/plain": [
       "<Figure size 288x216 with 1 Axes>"
      ]
     },
     "metadata": {
      "needs_background": "light"
     },
     "output_type": "display_data"
    }
   ],
   "source": [
    "hp.displace_2d(hp.intensity(U1),labels,range)"
   ]
  },
  {
   "cell_type": "markdown",
   "metadata": {},
   "source": [
    "U1'"
   ]
  },
  {
   "cell_type": "code",
   "execution_count": 14,
   "metadata": {},
   "outputs": [],
   "source": [
    "lens=PhaseModulator()\n",
    "lens.get_normal_lens_modulator(k,f,r)\n",
    "U1_af=lens.apply_modulator(U1,N_size,xyInterval)"
   ]
  },
  {
   "cell_type": "code",
   "execution_count": 15,
   "metadata": {},
   "outputs": [
    {
     "data": {
      "image/png": "[encoded data removed]",
      "text/plain": [
       "<Figure size 288x216 with 1 Axes>"
      ]
     },
     "metadata": {
      "needs_background": "light"
     },
     "output_type": "display_data"
    }
   ],
   "source": [
    "hp.displace_2d(hp.intensity(U1_af),labels,range)"
   ]
  },
  {
   "cell_type": "markdown",
   "metadata": {},
   "source": [
    "Ui"
   ]
  },
  {
   "cell_type": "code",
   "execution_count": 16,
   "metadata": {},
   "outputs": [],
   "source": [
    "Ui=propagator.cal_wavefront(U1_af,z2)"
   ]
  },
  {
   "cell_type": "code",
   "execution_count": 17,
   "metadata": {},
   "outputs": [
    {
     "data": {
      "image/png": "[encoded data removed]",
      "text/plain": [
       "<Figure size 288x216 with 1 Axes>"
      ]
     },
     "metadata": {
      "needs_background": "light"
     },
     "output_type": "display_data"
    }
   ],
   "source": [
    "hp.displace_2d(hp.intensity(Ui),labels,range)"
   ]
  },
  {
   "cell_type": "markdown",
   "metadata": {},
   "source": [
    "#### M=2"
   ]
  },
  {
   "cell_type": "markdown",
   "metadata": {},
   "source": [
    "$$z_1=\\frac{3}{2}f=150\\mu m$$\n",
    "$$z_2=2z_1=300\\mu m$$"
   ]
  },
  {
   "cell_type": "code",
   "execution_count": 18,
   "metadata": {},
   "outputs": [],
   "source": [
    "z1=150\n",
    "z2=300\n",
    "f=100\n",
    "r=210"
   ]
  },
  {
   "cell_type": "markdown",
   "metadata": {},
   "source": [
    "U1"
   ]
  },
  {
   "cell_type": "code",
   "execution_count": 19,
   "metadata": {},
   "outputs": [],
   "source": [
    "U0=np.sqrt(preImg)\n",
    "U1=propagator.cal_wavefront(U0,z1)"
   ]
  },
  {
   "cell_type": "markdown",
   "metadata": {},
   "source": [
    "U1'"
   ]
  },
  {
   "cell_type": "code",
   "execution_count": 20,
   "metadata": {},
   "outputs": [],
   "source": [
    "lens=PhaseModulator()\n",
    "lens.get_normal_lens_modulator(k,f,r)\n",
    "U1_af=lens.apply_modulator(U1,N_size,xyInterval)"
   ]
  },
  {
   "cell_type": "markdown",
   "metadata": {},
   "source": [
    "Ui"
   ]
  },
  {
   "cell_type": "code",
   "execution_count": 21,
   "metadata": {},
   "outputs": [],
   "source": [
    "Ui=propagator.cal_wavefront(U1_af,z2)"
   ]
  },
  {
   "cell_type": "code",
   "execution_count": 22,
   "metadata": {},
   "outputs": [
    {
     "data": {
      "image/png": "[encoded data removed]",
      "text/plain": [
       "<Figure size 288x216 with 1 Axes>"
      ]
     },
     "metadata": {
      "needs_background": "light"
     },
     "output_type": "display_data"
    }
   ],
   "source": [
    "hp.displace_2d(hp.intensity(Ui),labels,range)"
   ]
  },
  {
   "cell_type": "markdown",
   "metadata": {},
   "source": [
    "M=6"
   ]
  },
  {
   "cell_type": "markdown",
   "metadata": {},
   "source": [
    "$$z_1=\\frac{7}{6}f=233.33\\mu m$$\n",
    "$$z_2=2z_1=1400\\mu m$$"
   ]
  },
  {
   "cell_type": "code",
   "execution_count": 28,
   "metadata": {},
   "outputs": [],
   "source": [
    "f=100\n",
    "r=210\n",
    "z1=7.0*f/6.0\n",
    "z2=6*z1"
   ]
  },
  {
   "cell_type": "markdown",
   "metadata": {},
   "source": [
    "U1"
   ]
  },
  {
   "cell_type": "code",
   "execution_count": 29,
   "metadata": {},
   "outputs": [],
   "source": [
    "U0=np.sqrt(preImg)\n",
    "U1=propagator.cal_wavefront(U0,z1)"
   ]
  },
  {
   "cell_type": "markdown",
   "metadata": {},
   "source": [
    "U1'"
   ]
  },
  {
   "cell_type": "code",
   "execution_count": 30,
   "metadata": {},
   "outputs": [],
   "source": [
    "lens=PhaseModulator()\n",
    "lens.get_normal_lens_modulator(k,f,r)\n",
    "U1_af=lens.apply_modulator(U1,N_size,xyInterval)"
   ]
  },
  {
   "cell_type": "markdown",
   "metadata": {},
   "source": [
    "Ui"
   ]
  },
  {
   "cell_type": "code",
   "execution_count": 31,
   "metadata": {},
   "outputs": [],
   "source": [
    "Ui=propagator.cal_wavefront(U1_af,z2)"
   ]
  },
  {
   "cell_type": "code",
   "execution_count": 32,
   "metadata": {},
   "outputs": [
    {
     "data": {
      "image/png": "[encoded data removed]",
      "text/plain": [
       "<Figure size 288x216 with 1 Axes>"
      ]
     },
     "metadata": {
      "needs_background": "light"
     },
     "output_type": "display_data"
    }
   ],
   "source": [
    "hp.displace_2d(hp.intensity(Ui),labels,range)"
   ]
  }
 ],
 "metadata": {
  "interpreter": {
   "hash": "8d86c190dfcadcdaa67edec4a1ea82702241987b5b1f320c920d3d4ca36fee5b"
  },
  "kernelspec": {
   "display_name": "Python 3.8.3 ('base')",
   "language": "python",
   "name": "python3"
  },
  "language_info": {
   "codemirror_mode": {
    "name": "ipython",
    "version": 3
   },
   "file_extension": ".py",
   "mimetype": "text/x-python",
   "name": "python",
   "nbconvert_exporter": "python",
   "pygments_lexer": "ipython3",
   "version": "3.8.3"
  },
  "orig_nbformat": 4
 },
 "nbformat": 4,
 "nbformat_minor": 2
}
