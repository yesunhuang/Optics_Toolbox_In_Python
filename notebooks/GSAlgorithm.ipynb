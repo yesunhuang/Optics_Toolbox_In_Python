{
 "cells": [
  {
   "cell_type": "markdown",
   "metadata": {},
   "source": [
    "# Fourier Lens"
   ]
  },
  {
   "cell_type": "markdown",
   "metadata": {},
   "source": [
    "This notebook contains the problems which are solved with the Diffraction Tool"
   ]
  },
  {
   "cell_type": "markdown",
   "metadata": {},
   "source": [
    "## Import all the things"
   ]
  },
  {
   "cell_type": "markdown",
   "metadata": {},
   "source": [
    "Import regular packages"
   ]
  },
  {
   "cell_type": "code",
   "execution_count": 1,
   "metadata": {},
   "outputs": [],
   "source": [
    "import os\n",
    "os.environ[\"KMP_DUPLICATE_LIB_OK\"]=\"TRUE\""
   ]
  },
  {
   "cell_type": "code",
   "execution_count": 2,
   "metadata": {},
   "outputs": [],
   "source": [
    "%matplotlib inline\n",
    "\n",
    "import cv2\n",
    "import numpy as np\n",
    "from cmath import pi"
   ]
  },
  {
   "cell_type": "markdown",
   "metadata": {},
   "source": [
    "Add relative path"
   ]
  },
  {
   "cell_type": "code",
   "execution_count": 3,
   "metadata": {},
   "outputs": [],
   "source": [
    "import sys\n",
    "import os\n",
    "sys.path.append(os.path.join('..','Scripts'))"
   ]
  },
  {
   "cell_type": "markdown",
   "metadata": {},
   "source": [
    "Import Diffraction Tool"
   ]
  },
  {
   "cell_type": "code",
   "execution_count": 4,
   "metadata": {},
   "outputs": [],
   "source": [
    "from DiffractionTool import PhaseTypeHologram\n",
    "from DiffractionTool import PatternGenerator\n",
    "from DiffractionTool import HelperFunctions as hp"
   ]
  },
  {
   "cell_type": "markdown",
   "metadata": {},
   "source": [
    "## Problems"
   ]
  },
  {
   "cell_type": "markdown",
   "metadata": {},
   "source": [
    "As shown in the figure above, a 632.8nm laser beam is incident on a 200 micron diameter phase type hologram.\n",
    "And the transmitted light forms an image of $500\\mu m*500\\mu m$ at $z=400\\mu m$ (the image content is customized).\n",
    "Combined with angular spectrum method or Rayleigh-Sommerfeld diffraction, the GS algorithm shall be built to optimize the following two cases of hologram phase distributions. Upload code and report which includes the deserved phase distribution and detailed analysis.\n",
    "1. Phase distribution when the pixel cell size of the hologram is $0.3\\mu m *0.3\\mu m$\n",
    "2. Phase distribution when the pixel cell size of the hologram is $2.0\\mu m *2.0\\mu m$\n",
    "3. Compare the differences between the two cases and analyze the reasons"
   ]
  },
  {
   "cell_type": "markdown",
   "metadata": {},
   "source": [
    "<img src=\"https://github.com/yesunhuang/Optics_Toolbox_In_Python/blob/6738af360a3f9c9bf34ffd43a9751a1bcbfd55ff/notebooks/imgs/Prob5.png\" width=\"50%\">"
   ]
  },
  {
   "cell_type": "markdown",
   "metadata": {},
   "source": [
    "<img src=\"imgs/Prob5.png\" width=\"50%\">"
   ]
  },
  {
   "cell_type": "markdown",
   "metadata": {},
   "source": [
    "#### Paramters"
   ]
  },
  {
   "cell_type": "code",
   "execution_count": 5,
   "metadata": {},
   "outputs": [],
   "source": [
    "N_size=3335\n",
    "#μm plane [1000,1000]μm \n",
    "interval=0.3\n",
    "waveLambda=0.6328\n",
    "z=400\n",
    "k=2.0*pi/waveLambda\n",
    "actualSize=N_size*interval\n",
    "xyInterval=[interval]*2\n",
    "hologramRadius=250"
   ]
  },
  {
   "cell_type": "markdown",
   "metadata": {},
   "source": [
    "#### Original Image"
   ]
  },
  {
   "cell_type": "code",
   "execution_count": 6,
   "metadata": {},
   "outputs": [],
   "source": [
    "currentPath=os.getcwd()\n",
    "dataPath=os.path.join(currentPath,\"data\")\n",
    "filename='Prob3Data.png'"
   ]
  },
  {
   "cell_type": "code",
   "execution_count": 7,
   "metadata": {},
   "outputs": [],
   "source": [
    "grayImg=cv2.imread(os.path.join(dataPath,filename),cv2.IMREAD_GRAYSCALE)\n",
    "grayImg=cv2.flip(grayImg,0)\n",
    "imgActualSize=500\n",
    "imgNSize=grayImg.shape[0]\n",
    "grayImg=np.where(grayImg>100,1,0)\n",
    "grayImg=grayImg/np.max(np.abs(grayImg))"
   ]
  },
  {
   "cell_type": "code",
   "execution_count": 8,
   "metadata": {},
   "outputs": [
    {
     "data": {
      "image/png": "[encoded data removed]",
      "text/plain": [
       "<Figure size 288x216 with 1 Axes>"
      ]
     },
     "metadata": {
      "needs_background": "light"
     },
     "output_type": "display_data"
    }
   ],
   "source": [
    "labels=['X(μm) ','Y(μm)']\n",
    "range=[[-imgActualSize/2.0,imgActualSize/2.0]]*2\n",
    "hp.displace_2d(grayImg,labels,range)"
   ]
  },
  {
   "cell_type": "code",
   "execution_count": 9,
   "metadata": {},
   "outputs": [
    {
     "data": {
      "image/png": "[encoded data removed]",
      "text/plain": [
       "<Figure size 288x216 with 1 Axes>"
      ]
     },
     "metadata": {
      "needs_background": "light"
     },
     "output_type": "display_data"
    }
   ],
   "source": [
    "padSize=int((actualSize/(imgActualSize)*imgNSize-imgNSize)/2)\n",
    "targetImg=cv2.copyMakeBorder(grayImg,padSize,padSize,padSize,padSize,cv2.BORDER_CONSTANT,value=0)\n",
    "targetImg=cv2.resize(targetImg,(N_size,N_size))\n",
    "labels=['X(μm) ','Y(μm)']\n",
    "range=[[-actualSize/2.0,actualSize/2.0]]*2\n",
    "hp.displace_2d(targetImg,labels,range)"
   ]
  },
  {
   "cell_type": "code",
   "execution_count": 10,
   "metadata": {},
   "outputs": [],
   "source": [
    "'''\n",
    "PTest=PatternGenerator(N_size,xyInterval,pattern='rect')\n",
    "targetImg=hp.intensity(PTest.generate([200,200]))\n",
    "''';"
   ]
  },
  {
   "cell_type": "code",
   "execution_count": 11,
   "metadata": {},
   "outputs": [],
   "source": [
    "'''\n",
    "labels=['X(μm) ','Y(μm)']\n",
    "range=[[-actualSize/2.0,actualSize/2.0]]*2\n",
    "hp.displace_2d(targetImg,labels,range)\n",
    "''';"
   ]
  },
  {
   "cell_type": "code",
   "execution_count": 12,
   "metadata": {},
   "outputs": [
    {
     "name": "stdout",
     "output_type": "stream",
     "text": [
      "(3335, 3335)\n"
     ]
    }
   ],
   "source": [
    "print(targetImg.shape)"
   ]
  },
  {
   "cell_type": "markdown",
   "metadata": {},
   "source": [
    "### Hologram Pattern"
   ]
  },
  {
   "cell_type": "code",
   "execution_count": 13,
   "metadata": {},
   "outputs": [],
   "source": [
    "shape=PatternGenerator(N_size,xyInterval,pattern='circle')"
   ]
  },
  {
   "cell_type": "code",
   "execution_count": 14,
   "metadata": {},
   "outputs": [],
   "source": [
    "hologramShape=shape.generate([hologramRadius])"
   ]
  },
  {
   "cell_type": "code",
   "execution_count": 15,
   "metadata": {},
   "outputs": [
    {
     "data": {
      "image/png": "[encoded data removed]",
      "text/plain": [
       "<Figure size 288x216 with 1 Axes>"
      ]
     },
     "metadata": {
      "needs_background": "light"
     },
     "output_type": "display_data"
    }
   ],
   "source": [
    "hp.displace_2d(hp.intensity(hologramShape),labels,range);"
   ]
  },
  {
   "cell_type": "markdown",
   "metadata": {},
   "source": [
    "### Sub problem 1"
   ]
  },
  {
   "cell_type": "markdown",
   "metadata": {},
   "source": [
    "Phase distribution when the pixel cell size of the hologram is $0.3\\mu m *0.3\\mu m$."
   ]
  },
  {
   "cell_type": "code",
   "execution_count": 16,
   "metadata": {},
   "outputs": [],
   "source": [
    "#parameters\n",
    "pixelSize=[0.3]*2"
   ]
  },
  {
   "cell_type": "code",
   "execution_count": 17,
   "metadata": {},
   "outputs": [],
   "source": [
    "hologramP1=PhaseTypeHologram(N_size,xyInterval,pixelSize,hologramShape)"
   ]
  },
  {
   "cell_type": "markdown",
   "metadata": {},
   "source": [
    "GS"
   ]
  },
  {
   "cell_type": "code",
   "execution_count": 18,
   "metadata": {},
   "outputs": [
    {
     "name": "stdout",
     "output_type": "stream",
     "text": [
      "Epoch [10/100], loss: 0.057422, time: 346.390536s\n",
      "Epoch [20/100], loss: 0.059132, time: 226.040036s\n",
      "Epoch [30/100], loss: 0.059563, time: 224.443461s\n",
      "Epoch [40/100], loss: 0.058190, time: 224.365604s\n",
      "Epoch [50/100], loss: 0.061145, time: 224.529794s\n",
      "Epoch [60/100], loss: 0.057616, time: 225.323910s\n",
      "Epoch [70/100], loss: 0.059415, time: 230.266515s\n",
      "Epoch [80/100], loss: 0.058598, time: 230.668467s\n",
      "Epoch [90/100], loss: 0.059588, time: 231.134052s\n",
      "Epoch [100/100], loss: 0.057269, time: 230.725594s\n"
     ]
    }
   ],
   "source": [
    "loss=hologramP1.get_hologram(z,k,hologramShape,targetImg,epoches=100,epochStep=10)"
   ]
  },
  {
   "cell_type": "markdown",
   "metadata": {},
   "source": [
    "Results"
   ]
  },
  {
   "cell_type": "code",
   "execution_count": 19,
   "metadata": {},
   "outputs": [],
   "source": [
    "result=hologramP1.apply_hologram(z,k,hologramShape)"
   ]
  },
  {
   "cell_type": "code",
   "execution_count": 20,
   "metadata": {},
   "outputs": [
    {
     "data": {
      "image/png": "[encoded data removed]",
      "text/plain": [
       "<Figure size 288x216 with 1 Axes>"
      ]
     },
     "metadata": {
      "needs_background": "light"
     },
     "output_type": "display_data"
    }
   ],
   "source": [
    "hp.displace_2d(hp.intensity(result),labels,range);"
   ]
  },
  {
   "cell_type": "markdown",
   "metadata": {},
   "source": [
    "Hologram phase distribution"
   ]
  },
  {
   "cell_type": "code",
   "execution_count": 21,
   "metadata": {},
   "outputs": [
    {
     "data": {
      "image/png": "[encoded data removed]",
      "text/plain": [
       "<Figure size 288x216 with 1 Axes>"
      ]
     },
     "metadata": {
      "needs_background": "light"
     },
     "output_type": "display_data"
    }
   ],
   "source": [
    "hp.displace_2d(hologramP1.get_hologram_phase_distribution(),labels,range)"
   ]
  },
  {
   "cell_type": "markdown",
   "metadata": {},
   "source": [
    "### Sub problem 2"
   ]
  },
  {
   "cell_type": "markdown",
   "metadata": {},
   "source": [
    "Phase distribution when the pixel cell size of the hologram is $2.0\\mu m *2.0\\mu m$"
   ]
  },
  {
   "cell_type": "code",
   "execution_count": 22,
   "metadata": {},
   "outputs": [],
   "source": [
    "#parameters\n",
    "pixelSize=[2.0]*2"
   ]
  },
  {
   "cell_type": "code",
   "execution_count": 23,
   "metadata": {},
   "outputs": [],
   "source": [
    "hologramP2=PhaseTypeHologram(N_size,xyInterval,pixelSize,hologramShape)"
   ]
  },
  {
   "cell_type": "markdown",
   "metadata": {},
   "source": [
    "GS"
   ]
  },
  {
   "cell_type": "code",
   "execution_count": 24,
   "metadata": {},
   "outputs": [
    {
     "name": "stdout",
     "output_type": "stream",
     "text": [
      "Epoch [10/100], loss: 0.060196, time: 345.409198s\n",
      "Epoch [20/100], loss: 0.061953, time: 226.020749s\n",
      "Epoch [30/100], loss: 0.059841, time: 231.646427s\n",
      "Epoch [40/100], loss: 0.061303, time: 231.424949s\n",
      "Epoch [50/100], loss: 0.061066, time: 228.586603s\n",
      "Epoch [60/100], loss: 0.064465, time: 226.858424s\n",
      "Epoch [70/100], loss: 0.062863, time: 231.974710s\n",
      "Epoch [80/100], loss: 0.062939, time: 232.161379s\n",
      "Epoch [90/100], loss: 0.063083, time: 228.258774s\n",
      "Epoch [100/100], loss: 0.064084, time: 227.500182s\n"
     ]
    }
   ],
   "source": [
    "loss=hologramP2.get_hologram(z,k,hologramShape,targetImg,epoches=100,epochStep=10)"
   ]
  },
  {
   "cell_type": "markdown",
   "metadata": {},
   "source": [
    "Results"
   ]
  },
  {
   "cell_type": "code",
   "execution_count": 25,
   "metadata": {},
   "outputs": [],
   "source": [
    "result=hologramP2.apply_hologram(z,k,hologramShape)"
   ]
  },
  {
   "cell_type": "code",
   "execution_count": 26,
   "metadata": {},
   "outputs": [
    {
     "data": {
      "image/png": "[encoded data removed]",
      "text/plain": [
       "<Figure size 288x216 with 1 Axes>"
      ]
     },
     "metadata": {
      "needs_background": "light"
     },
     "output_type": "display_data"
    }
   ],
   "source": [
    "hp.displace_2d(hp.intensity(result),labels,range);"
   ]
  },
  {
   "cell_type": "markdown",
   "metadata": {},
   "source": [
    "Hologram phase distribution"
   ]
  },
  {
   "cell_type": "code",
   "execution_count": 27,
   "metadata": {},
   "outputs": [
    {
     "data": {
      "image/png": "[encoded data removed]",
      "text/plain": [
       "<Figure size 288x216 with 1 Axes>"
      ]
     },
     "metadata": {
      "needs_background": "light"
     },
     "output_type": "display_data"
    }
   ],
   "source": [
    "hp.displace_2d(hologramP2.get_hologram_phase_distribution(),labels,range)"
   ]
  },
  {
   "cell_type": "markdown",
   "metadata": {},
   "source": [
    "### Sub problem 3"
   ]
  },
  {
   "cell_type": "markdown",
   "metadata": {},
   "source": [
    "Compare the differences between the two cases and analyze the reasons"
   ]
  },
  {
   "cell_type": "markdown",
   "metadata": {},
   "source": [
    "Answer: When the pixel size is too large, the result image is very rough. The reason is that the GS algorithm is not able to capture the phase distribution of the hologram and does not converge due to the roughness of pixel. So it might be better to use a small pixel size."
   ]
  }
 ],
 "metadata": {
  "interpreter": {
   "hash": "8d86c190dfcadcdaa67edec4a1ea82702241987b5b1f320c920d3d4ca36fee5b"
  },
  "kernelspec": {
   "display_name": "Python 3.8.3 ('base')",
   "language": "python",
   "name": "python3"
  },
  "language_info": {
   "codemirror_mode": {
    "name": "ipython",
    "version": 3
   },
   "file_extension": ".py",
   "mimetype": "text/x-python",
   "name": "python",
   "nbconvert_exporter": "python",
   "pygments_lexer": "ipython3",
   "version": "3.8.3"
  },
  "orig_nbformat": 4
 },
 "nbformat": 4,
 "nbformat_minor": 2
}
