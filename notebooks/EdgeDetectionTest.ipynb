{
 "cells": [
  {
   "cell_type": "markdown",
   "metadata": {},
   "source": [
    "# Edge Detection"
   ]
  },
  {
   "cell_type": "markdown",
   "metadata": {},
   "source": [
    "This notebook tests the edge detection algorithm."
   ]
  },
  {
   "cell_type": "markdown",
   "metadata": {},
   "source": [
    "## Import all the things"
   ]
  },
  {
   "cell_type": "markdown",
   "metadata": {},
   "source": [
    "Import regular packages"
   ]
  },
  {
   "cell_type": "code",
   "execution_count": 1,
   "metadata": {},
   "outputs": [],
   "source": [
    "import os\n",
    "os.environ[\"KMP_DUPLICATE_LIB_OK\"]=\"TRUE\""
   ]
  },
  {
   "cell_type": "code",
   "execution_count": 2,
   "metadata": {},
   "outputs": [],
   "source": [
    "%matplotlib inline\n",
    "\n",
    "import cv2\n",
    "from scipy import signal\n",
    "import numpy as np\n",
    "from cmath import pi"
   ]
  },
  {
   "cell_type": "markdown",
   "metadata": {},
   "source": [
    "Add relative path"
   ]
  },
  {
   "cell_type": "code",
   "execution_count": 3,
   "metadata": {},
   "outputs": [],
   "source": [
    "import sys\n",
    "import os\n",
    "sys.path.append(os.path.join('..','Scripts'))"
   ]
  },
  {
   "cell_type": "markdown",
   "metadata": {},
   "source": [
    "Import Diffraction Tool"
   ]
  },
  {
   "cell_type": "code",
   "execution_count": 4,
   "metadata": {},
   "outputs": [],
   "source": [
    "from DiffractionTool import ImageSys4f\n",
    "from DiffractionTool import HelperFunctions as hp"
   ]
  },
  {
   "cell_type": "markdown",
   "metadata": {},
   "source": [
    "### Global Paramters"
   ]
  },
  {
   "cell_type": "code",
   "execution_count": 5,
   "metadata": {},
   "outputs": [],
   "source": [
    "N_size=2001\n",
    "#μm plane [400,400]μm \n",
    "interval=0.2\n",
    "actualSize=N_size*interval\n",
    "xyInterval=[interval]*2"
   ]
  },
  {
   "cell_type": "code",
   "execution_count": 6,
   "metadata": {},
   "outputs": [],
   "source": [
    "currentPath=os.getcwd()\n",
    "dataPath=os.path.join(currentPath,\"data\")"
   ]
  },
  {
   "cell_type": "markdown",
   "metadata": {},
   "source": [
    "### Sample Image"
   ]
  },
  {
   "cell_type": "code",
   "execution_count": 7,
   "metadata": {},
   "outputs": [],
   "source": [
    "#filename='maki.png'\n",
    "filename='Prob3Data.png'\n",
    "imgActualSize=200"
   ]
  },
  {
   "cell_type": "code",
   "execution_count": 8,
   "metadata": {},
   "outputs": [
    {
     "ename": "AttributeError",
     "evalue": "type object 'HelperFunctions' has no attribute 'normalize'",
     "output_type": "error",
     "traceback": [
      "\u001b[1;31m---------------------------------------------------------------------------\u001b[0m",
      "\u001b[1;31mAttributeError\u001b[0m                            Traceback (most recent call last)",
      "\u001b[1;32m<ipython-input-8-c9099591c963>\u001b[0m in \u001b[0;36m<module>\u001b[1;34m\u001b[0m\n\u001b[0;32m      1\u001b[0m \u001b[0mgrayImg\u001b[0m\u001b[1;33m=\u001b[0m\u001b[0mcv2\u001b[0m\u001b[1;33m.\u001b[0m\u001b[0mimread\u001b[0m\u001b[1;33m(\u001b[0m\u001b[0mos\u001b[0m\u001b[1;33m.\u001b[0m\u001b[0mpath\u001b[0m\u001b[1;33m.\u001b[0m\u001b[0mjoin\u001b[0m\u001b[1;33m(\u001b[0m\u001b[0mdataPath\u001b[0m\u001b[1;33m,\u001b[0m\u001b[0mfilename\u001b[0m\u001b[1;33m)\u001b[0m\u001b[1;33m,\u001b[0m\u001b[0mcv2\u001b[0m\u001b[1;33m.\u001b[0m\u001b[0mIMREAD_GRAYSCALE\u001b[0m\u001b[1;33m)\u001b[0m\u001b[1;33m\u001b[0m\u001b[1;33m\u001b[0m\u001b[0m\n\u001b[0;32m      2\u001b[0m \u001b[0mgrayImg\u001b[0m\u001b[1;33m=\u001b[0m\u001b[0mcv2\u001b[0m\u001b[1;33m.\u001b[0m\u001b[0mflip\u001b[0m\u001b[1;33m(\u001b[0m\u001b[0mgrayImg\u001b[0m\u001b[1;33m,\u001b[0m\u001b[1;36m0\u001b[0m\u001b[1;33m)\u001b[0m\u001b[1;33m\u001b[0m\u001b[1;33m\u001b[0m\u001b[0m\n\u001b[1;32m----> 3\u001b[1;33m \u001b[0mgrayImg\u001b[0m\u001b[1;33m=\u001b[0m\u001b[0mhp\u001b[0m\u001b[1;33m.\u001b[0m\u001b[0mnormalize\u001b[0m\u001b[1;33m(\u001b[0m\u001b[0mgrayImg\u001b[0m\u001b[1;33m)\u001b[0m\u001b[1;33m\u001b[0m\u001b[1;33m\u001b[0m\u001b[0m\n\u001b[0m",
      "\u001b[1;31mAttributeError\u001b[0m: type object 'HelperFunctions' has no attribute 'normalize'"
     ]
    }
   ],
   "source": [
    "grayImg=cv2.imread(os.path.join(dataPath,filename),cv2.IMREAD_GRAYSCALE)\n",
    "grayImg=cv2.flip(grayImg,0)\n",
    "grayImg=hp.normalize(grayImg)"
   ]
  },
  {
   "cell_type": "code",
   "execution_count": null,
   "metadata": {},
   "outputs": [
    {
     "data": {
      "image/png": "[encoded data removed]",
      "text/plain": [
       "<Figure size 288x216 with 1 Axes>"
      ]
     },
     "metadata": {
      "needs_background": "light"
     },
     "output_type": "display_data"
    }
   ],
   "source": [
    "labels=['X(μm) ','Y(μm)']\n",
    "range=[[-imgActualSize/2.0,imgActualSize/2.0]]*2\n",
    "hp.displace_2d(grayImg,labels,range)"
   ]
  },
  {
   "cell_type": "code",
   "execution_count": null,
   "metadata": {},
   "outputs": [
    {
     "data": {
      "image/png": "[encoded data removed]",
      "text/plain": [
       "<Figure size 288x216 with 1 Axes>"
      ]
     },
     "metadata": {
      "needs_background": "light"
     },
     "output_type": "display_data"
    }
   ],
   "source": [
    "targetImg=hp.pad_and_resize(grayImg,imgActualSize,actualSize,N_size)\n",
    "labels=['X(μm) ','Y(μm)']\n",
    "range=[[-actualSize/2.0,actualSize/2.0]]*2\n",
    "hp.displace_2d(targetImg,labels,range)"
   ]
  },
  {
   "cell_type": "markdown",
   "metadata": {},
   "source": [
    "### Mathamatical Convolution"
   ]
  },
  {
   "cell_type": "markdown",
   "metadata": {},
   "source": [
    "#### Define a kernel"
   ]
  },
  {
   "cell_type": "markdown",
   "metadata": {},
   "source": [
    "Scharr Kernel"
   ]
  },
  {
   "cell_type": "code",
   "execution_count": null,
   "metadata": {},
   "outputs": [],
   "source": [
    "edgeFilter_scharr=np.array([[ -3-3j, 0-10j,  +3 -3j],[-10+0j, 0+ 0j, +10 +0j],\\\n",
    "    [ -3+3j, 0+10j,  +3 +3j]])"
   ]
  },
  {
   "cell_type": "code",
   "execution_count": null,
   "metadata": {},
   "outputs": [
    {
     "name": "stdout",
     "output_type": "stream",
     "text": [
      "[[ -3. -3.j   0.-10.j   3. -3.j]\n",
      " [-10. +0.j   0. +0.j  10. +0.j]\n",
      " [ -3. +3.j   0.+10.j   3. +3.j]]\n"
     ]
    }
   ],
   "source": [
    "print(edgeFilter_scharr)"
   ]
  },
  {
   "cell_type": "markdown",
   "metadata": {},
   "source": [
    "Center Kernel"
   ]
  },
  {
   "cell_type": "code",
   "execution_count": null,
   "metadata": {},
   "outputs": [],
   "source": [
    "edgeFilter_center=10*np.array([[0,-1,0],[-1,4,-1],[0,-1,0]])"
   ]
  },
  {
   "cell_type": "code",
   "execution_count": null,
   "metadata": {},
   "outputs": [
    {
     "name": "stdout",
     "output_type": "stream",
     "text": [
      "[[  0 -10   0]\n",
      " [-10  40 -10]\n",
      " [  0 -10   0]]\n"
     ]
    }
   ],
   "source": [
    "print(edgeFilter_center)"
   ]
  },
  {
   "cell_type": "markdown",
   "metadata": {},
   "source": [
    "#### Edge detection results"
   ]
  },
  {
   "cell_type": "markdown",
   "metadata": {},
   "source": [
    "Scharr"
   ]
  },
  {
   "cell_type": "code",
   "execution_count": null,
   "metadata": {},
   "outputs": [],
   "source": [
    "resImg=signal.convolve2d(targetImg,edgeFilter_scharr,mode='same')"
   ]
  },
  {
   "cell_type": "code",
   "execution_count": null,
   "metadata": {},
   "outputs": [
    {
     "data": {
      "image/png": "[encoded data removed]",
      "text/plain": [
       "<Figure size 288x216 with 2 Axes>"
      ]
     },
     "metadata": {
      "needs_background": "light"
     },
     "output_type": "display_data"
    }
   ],
   "source": [
    "labels=['X(μm) ','Y(μm)']\n",
    "range=[[-actualSize/2.0,actualSize/2.0]]*2\n",
    "hp.displace_2d(np.log(np.absolute(resImg)+1),labels,range,enableColorBar=True)"
   ]
  },
  {
   "cell_type": "markdown",
   "metadata": {},
   "source": [
    "Center"
   ]
  },
  {
   "cell_type": "code",
   "execution_count": null,
   "metadata": {},
   "outputs": [],
   "source": [
    "resImg=signal.convolve2d(targetImg,edgeFilter_center,mode='same')"
   ]
  },
  {
   "cell_type": "code",
   "execution_count": null,
   "metadata": {},
   "outputs": [
    {
     "data": {
      "image/png": "[encoded data removed]",
      "text/plain": [
       "<Figure size 288x216 with 2 Axes>"
      ]
     },
     "metadata": {
      "needs_background": "light"
     },
     "output_type": "display_data"
    }
   ],
   "source": [
    "labels=['X(μm) ','Y(μm)']\n",
    "range=[[-actualSize/2.0,actualSize/2.0]]*2\n",
    "hp.displace_2d(np.log(np.absolute(resImg)+1),labels,range,enableColorBar=True)"
   ]
  },
  {
   "cell_type": "markdown",
   "metadata": {},
   "source": [
    "### Using 4F physical imaging system"
   ]
  },
  {
   "cell_type": "markdown",
   "metadata": {},
   "source": [
    "#### Parameters"
   ]
  },
  {
   "cell_type": "code",
   "execution_count": null,
   "metadata": {},
   "outputs": [],
   "source": [
    "waveLambda=0.633\n",
    "f=1000\n",
    "r=400\n",
    "k=2.0*pi/waveLambda"
   ]
  },
  {
   "cell_type": "code",
   "execution_count": null,
   "metadata": {},
   "outputs": [],
   "source": [
    "edgeDetector=ImageSys4f(N_size,xyInterval,k,f,r)"
   ]
  },
  {
   "cell_type": "markdown",
   "metadata": {},
   "source": [
    "#### Performance Test"
   ]
  },
  {
   "cell_type": "markdown",
   "metadata": {},
   "source": [
    "##### None filter"
   ]
  },
  {
   "cell_type": "code",
   "execution_count": null,
   "metadata": {},
   "outputs": [],
   "source": [
    "U0=np.sqrt(targetImg)"
   ]
  },
  {
   "cell_type": "code",
   "execution_count": null,
   "metadata": {},
   "outputs": [],
   "source": [
    "Uen=edgeDetector.generate_image(U0)"
   ]
  },
  {
   "cell_type": "code",
   "execution_count": null,
   "metadata": {},
   "outputs": [
    {
     "data": {
      "image/png": "[encoded data removed]",
      "text/plain": [
       "<Figure size 288x216 with 2 Axes>"
      ]
     },
     "metadata": {
      "needs_background": "light"
     },
     "output_type": "display_data"
    }
   ],
   "source": [
    "labels=['X(μm) ','Y(μm)']\n",
    "range=[[-actualSize/2.0,actualSize/2.0]]*2\n",
    "#hp.displace_2d(np.log(hp.intensity(Ue)),labels,range,enableColorBar=True)\n",
    "hp.displace_2d(np.flip(hp.intensity(Uen),(0,1)),labels,range,enableColorBar=True)"
   ]
  },
  {
   "cell_type": "markdown",
   "metadata": {},
   "source": [
    "##### Scharr Filter"
   ]
  },
  {
   "cell_type": "code",
   "execution_count": null,
   "metadata": {},
   "outputs": [],
   "source": [
    "fqFilter=edgeDetector.calConvFilter(edgeFilter_scharr,1e5)"
   ]
  },
  {
   "cell_type": "code",
   "execution_count": null,
   "metadata": {},
   "outputs": [],
   "source": [
    "Ues=edgeDetector.generate_image(U0,fqFilter)"
   ]
  },
  {
   "cell_type": "code",
   "execution_count": null,
   "metadata": {},
   "outputs": [
    {
     "data": {
      "image/png": "[encoded data removed]",
      "text/plain": [
       "<Figure size 288x216 with 2 Axes>"
      ]
     },
     "metadata": {
      "needs_background": "light"
     },
     "output_type": "display_data"
    }
   ],
   "source": [
    "labels=['X(μm) ','Y(μm)']\n",
    "range=[[-actualSize/2.0,actualSize/2.0]]*2\n",
    "#hp.displace_2d(np.log(hp.intensity(Ue)),labels,range,enableColorBar=True)\n",
    "hp.displace_2d(np.flip(hp.intensity(Ues),(0,1)),labels,range,enableColorBar=True)"
   ]
  },
  {
   "cell_type": "markdown",
   "metadata": {},
   "source": [
    "##### Center Filter"
   ]
  },
  {
   "cell_type": "code",
   "execution_count": null,
   "metadata": {},
   "outputs": [
    {
     "data": {
      "image/png": "[encoded data removed]",
      "text/plain": [
       "<Figure size 288x216 with 2 Axes>"
      ]
     },
     "metadata": {
      "needs_background": "light"
     },
     "output_type": "display_data"
    }
   ],
   "source": [
    "fqFilter=edgeDetector.calConvFilter(edgeFilter_center,1e5)\n",
    "Uec=edgeDetector.generate_image(U0,fqFilter)\n",
    "labels=['X(μm) ','Y(μm)']\n",
    "range=[[-actualSize/2.0,actualSize/2.0]]*2\n",
    "#hp.displace_2d(np.log(hp.intensity(Ue)),labels,range,enableColorBar=True)\n",
    "hp.displace_2d(np.flip(hp.intensity(Uec),(0,1)),labels,range,enableColorBar=True)"
   ]
  },
  {
   "cell_type": "markdown",
   "metadata": {},
   "source": [
    "##### Zoom In"
   ]
  },
  {
   "cell_type": "markdown",
   "metadata": {},
   "source": [
    "None Filter"
   ]
  },
  {
   "cell_type": "code",
   "execution_count": null,
   "metadata": {},
   "outputs": [],
   "source": [
    "resImg=np.flip(hp.intensity(Uen),(0,1))\n",
    "zoomResImg=hp.zoom_in(resImg,imgActualSize,actualSize,N_size)"
   ]
  },
  {
   "cell_type": "code",
   "execution_count": null,
   "metadata": {},
   "outputs": [
    {
     "data": {
      "image/png": "[encoded data removed]",
      "text/plain": [
       "<Figure size 288x216 with 2 Axes>"
      ]
     },
     "metadata": {
      "needs_background": "light"
     },
     "output_type": "display_data"
    }
   ],
   "source": [
    "labels=['X(μm) ','Y(μm)']\n",
    "range=[[-imgActualSize/2.0,imgActualSize/2.0]]*2\n",
    "#hp.displace_2d(np.log(hp.intensity(Ue)),labels,range,enableColorBar=True)\n",
    "hp.displace_2d(zoomResImg,labels,range,enableColorBar=True)"
   ]
  },
  {
   "cell_type": "markdown",
   "metadata": {},
   "source": [
    "Scharr Filter"
   ]
  },
  {
   "cell_type": "code",
   "execution_count": null,
   "metadata": {},
   "outputs": [
    {
     "data": {
      "image/png": "[encoded data removed]",
      "text/plain": [
       "<Figure size 288x216 with 2 Axes>"
      ]
     },
     "metadata": {
      "needs_background": "light"
     },
     "output_type": "display_data"
    }
   ],
   "source": [
    "resImg=np.flip(hp.intensity(Ues),(0,1))\n",
    "imageZoomInterval=int(imgActualSize/actualSize*N_size)\n",
    "pad=0\n",
    "zoomResImg=resImg[N_size//2-imageZoomInterval//2+pad:N_size//2+imageZoomInterval//2-pad,\\\n",
    "    N_size//2-imageZoomInterval//2+pad:N_size//2+imageZoomInterval//2-pad]\n",
    "labels=['X(μm) ','Y(μm)']\n",
    "range=[[-imgActualSize/2.0,imgActualSize/2.0]]*2\n",
    "#hp.displace_2d(np.log(hp.intensity(Ue)),labels,range,enableColorBar=True)\n",
    "hp.displace_2d(zoomResImg,labels,range,enableColorBar=True)"
   ]
  },
  {
   "cell_type": "markdown",
   "metadata": {},
   "source": [
    "Center Filter"
   ]
  },
  {
   "cell_type": "code",
   "execution_count": null,
   "metadata": {},
   "outputs": [
    {
     "data": {
      "image/png": "[encoded data removed]",
      "text/plain": [
       "<Figure size 288x216 with 2 Axes>"
      ]
     },
     "metadata": {
      "needs_background": "light"
     },
     "output_type": "display_data"
    }
   ],
   "source": [
    "resImg=np.flip(hp.intensity(Uec),(0,1))\n",
    "imageZoomInterval=int(imgActualSize/actualSize*N_size)\n",
    "pad=0\n",
    "zoomResImg=resImg[N_size//2-imageZoomInterval//2+pad:N_size//2+imageZoomInterval//2-pad,\\\n",
    "    N_size//2-imageZoomInterval//2+pad:N_size//2+imageZoomInterval//2-pad]\n",
    "labels=['X(μm) ','Y(μm)']\n",
    "range=[[-imgActualSize/2.0,imgActualSize/2.0]]*2\n",
    "#hp.displace_2d(np.log(hp.intensity(Ue)),labels,range,enableColorBar=True)\n",
    "hp.displace_2d(zoomResImg,labels,range,enableColorBar=True)"
   ]
  },
  {
   "cell_type": "markdown",
   "metadata": {},
   "source": [
    "#### Play with other images"
   ]
  },
  {
   "cell_type": "markdown",
   "metadata": {},
   "source": [
    "##### Image 1: Maki"
   ]
  },
  {
   "cell_type": "markdown",
   "metadata": {},
   "source": [
    "Load the image"
   ]
  },
  {
   "cell_type": "code",
   "execution_count": null,
   "metadata": {},
   "outputs": [],
   "source": [
    "filename='Prob3Data.png'\n",
    "imgActualSize=200\n",
    "\n",
    "grayImg=cv2.imread(os.path.join(dataPath,filename),cv2.IMREAD_GRAYSCALE)\n",
    "grayImg=cv2.flip(grayImg,0)\n",
    "grayImg=hp.normalize(grayImg)\n",
    "targetImg=hp.pad_and_resize(grayImg,imgActualSize,actualSize,N_size)\n",
    "\n",
    "labels=['X(μm) ','Y(μm)']\n",
    "range=[[-actualSize/2.0,actualSize/2.0]]*2\n",
    "hp.displace_2d(targetImg,labels,range)"
   ]
  }
 ],
 "metadata": {
  "interpreter": {
   "hash": "7758e92e9a61d7a3490898707f7eeb937c85e9d1e8d4e877cc6c187218f226d5"
  },
  "kernelspec": {
   "display_name": "Python 3.8.3 ('base')",
   "language": "python",
   "name": "python3"
  },
  "language_info": {
   "codemirror_mode": {
    "name": "ipython",
    "version": 3
   },
   "file_extension": ".py",
   "mimetype": "text/x-python",
   "name": "python",
   "nbconvert_exporter": "python",
   "pygments_lexer": "ipython3",
   "version": "3.8.3"
  },
  "orig_nbformat": 4,
  "vscode": {
   "interpreter": {
    "hash": "7758e92e9a61d7a3490898707f7eeb937c85e9d1e8d4e877cc6c187218f226d5"
   }
  }
 },
 "nbformat": 4,
 "nbformat_minor": 2
}
